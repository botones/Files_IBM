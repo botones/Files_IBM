{
    "cells": [
        {
            "cell_type": "markdown",
            "metadata": {
                "collapsed": true,
                "jupyter": {
                    "outputs_hidden": true
                }
            },
            "source": "## Uso de statsmmodels"
        },
        {
            "cell_type": "code",
            "execution_count": 1,
            "metadata": {
                "id": "7d98c591-7ea0-480e-ba9a-e528045edbf3"
            },
            "outputs": [],
            "source": "%matplotlib inline\nimport pandas as pd\nimport numpy as np\nimport matplotlib.pyplot as plt\nfrom matplotlib import style\nimport seaborn as sns\n\nfrom scipy.stats import pearsonr\nfrom sklearn.linear_model import LinearRegression\nfrom sklearn.model_selection import train_test_split\nfrom sklearn.metrics import r2_score\nfrom sklearn.metrics import mean_squared_error\n\n# ***statsmodels***\nimport statsmodels.api as sm\nimport statsmodels.formula.api as smf\nimport warnings\nwarnings.filterwarnings('ignore')"
        },
        {
            "cell_type": "code",
            "execution_count": 2,
            "metadata": {
                "id": "5c0c3d04-6e50-4cf5-befb-079d5bdcb3d2"
            },
            "outputs": [
                {
                    "data": {
                        "text/html": "<div>\n<style scoped>\n    .dataframe tbody tr th:only-of-type {\n        vertical-align: middle;\n    }\n\n    .dataframe tbody tr th {\n        vertical-align: top;\n    }\n\n    .dataframe thead th {\n        text-align: right;\n    }\n</style>\n<table border=\"1\" class=\"dataframe\">\n  <thead>\n    <tr style=\"text-align: right;\">\n      <th></th>\n      <th>equipos</th>\n      <th>bateos</th>\n      <th>runs</th>\n    </tr>\n  </thead>\n  <tbody>\n    <tr>\n      <th>0</th>\n      <td>Texas</td>\n      <td>5659</td>\n      <td>855</td>\n    </tr>\n    <tr>\n      <th>1</th>\n      <td>Boston</td>\n      <td>5710</td>\n      <td>875</td>\n    </tr>\n    <tr>\n      <th>2</th>\n      <td>Detroit</td>\n      <td>5563</td>\n      <td>787</td>\n    </tr>\n    <tr>\n      <th>3</th>\n      <td>Kansas</td>\n      <td>5672</td>\n      <td>730</td>\n    </tr>\n    <tr>\n      <th>4</th>\n      <td>St.</td>\n      <td>5532</td>\n      <td>762</td>\n    </tr>\n  </tbody>\n</table>\n</div>",
                        "text/plain": "   equipos  bateos  runs\n0    Texas    5659   855\n1   Boston    5710   875\n2  Detroit    5563   787\n3   Kansas    5672   730\n4      St.    5532   762"
                    },
                    "execution_count": 2,
                    "metadata": {},
                    "output_type": "execute_result"
                }
            ],
            "source": "#@title Datos\nequipos = [\"Texas\",\"Boston\",\"Detroit\",\"Kansas\",\"St.\",\"New_S.\",\"New_Y.\",\n           \"Milwaukee\",\"Colorado\",\"Houston\",\"Baltimore\",\"Los_An.\",\"Chicago\",\n           \"Cincinnati\",\"Los_P.\",\"Philadelphia\",\"Chicago\",\"Cleveland\",\"Arizona\",\n           \"Toronto\",\"Minnesota\",\"Florida\",\"Pittsburgh\",\"Oakland\",\"Tampa\",\n           \"Atlanta\",\"Washington\",\"San.F\",\"San.I\",\"Seattle\"]\nbateos = [5659,  5710, 5563, 5672, 5532, 5600, 5518, 5447, 5544, 5598,\n          5585, 5436, 5549, 5612, 5513, 5579, 5502, 5509, 5421, 5559,\n          5487, 5508, 5421, 5452, 5436, 5528, 5441, 5486, 5417, 5421]\n\nruns = [855, 875, 787, 730, 762, 718, 867, 721, 735, 615, 708, 644, 654, 735,\n        667, 713, 654, 704, 731, 743, 619, 625, 610, 645, 707, 641, 624, 570,\n        593, 556]\n\ndatos = pd.DataFrame({'equipos': equipos, 'bateos': bateos, 'runs': runs})\ndatos.head(5)"
        },
        {
            "cell_type": "code",
            "execution_count": 3,
            "metadata": {
                "id": "f7456804-495a-4b0e-b907-bde7add67a8a"
            },
            "outputs": [],
            "source": "# from sklearn.model_selection import train_test_split\nX = datos['bateos']\ny = datos['runs']\nX_train, X_test, y_train, y_test = train_test_split(\n                                        X.values.reshape(-1,1),\n                                        y.values.reshape(-1,1),\n                                        train_size   = 0.8,\n                                        random_state = 1234,\n                                        shuffle      = True\n                                    )"
        },
        {
            "cell_type": "code",
            "execution_count": 4,
            "metadata": {
                "id": "bb026115-a8ac-41a0-8a53-1c50c34c355b"
            },
            "outputs": [
                {
                    "data": {
                        "text/html": "<style>#sk-container-id-1 {color: black;}#sk-container-id-1 pre{padding: 0;}#sk-container-id-1 div.sk-toggleable {background-color: white;}#sk-container-id-1 label.sk-toggleable__label {cursor: pointer;display: block;width: 100%;margin-bottom: 0;padding: 0.3em;box-sizing: border-box;text-align: center;}#sk-container-id-1 label.sk-toggleable__label-arrow:before {content: \"\u25b8\";float: left;margin-right: 0.25em;color: #696969;}#sk-container-id-1 label.sk-toggleable__label-arrow:hover:before {color: black;}#sk-container-id-1 div.sk-estimator:hover label.sk-toggleable__label-arrow:before {color: black;}#sk-container-id-1 div.sk-toggleable__content {max-height: 0;max-width: 0;overflow: hidden;text-align: left;background-color: #f0f8ff;}#sk-container-id-1 div.sk-toggleable__content pre {margin: 0.2em;color: black;border-radius: 0.25em;background-color: #f0f8ff;}#sk-container-id-1 input.sk-toggleable__control:checked~div.sk-toggleable__content {max-height: 200px;max-width: 100%;overflow: auto;}#sk-container-id-1 input.sk-toggleable__control:checked~label.sk-toggleable__label-arrow:before {content: \"\u25be\";}#sk-container-id-1 div.sk-estimator input.sk-toggleable__control:checked~label.sk-toggleable__label {background-color: #d4ebff;}#sk-container-id-1 div.sk-label input.sk-toggleable__control:checked~label.sk-toggleable__label {background-color: #d4ebff;}#sk-container-id-1 input.sk-hidden--visually {border: 0;clip: rect(1px 1px 1px 1px);clip: rect(1px, 1px, 1px, 1px);height: 1px;margin: -1px;overflow: hidden;padding: 0;position: absolute;width: 1px;}#sk-container-id-1 div.sk-estimator {font-family: monospace;background-color: #f0f8ff;border: 1px dotted black;border-radius: 0.25em;box-sizing: border-box;margin-bottom: 0.5em;}#sk-container-id-1 div.sk-estimator:hover {background-color: #d4ebff;}#sk-container-id-1 div.sk-parallel-item::after {content: \"\";width: 100%;border-bottom: 1px solid gray;flex-grow: 1;}#sk-container-id-1 div.sk-label:hover label.sk-toggleable__label {background-color: #d4ebff;}#sk-container-id-1 div.sk-serial::before {content: \"\";position: absolute;border-left: 1px solid gray;box-sizing: border-box;top: 0;bottom: 0;left: 50%;z-index: 0;}#sk-container-id-1 div.sk-serial {display: flex;flex-direction: column;align-items: center;background-color: white;padding-right: 0.2em;padding-left: 0.2em;position: relative;}#sk-container-id-1 div.sk-item {position: relative;z-index: 1;}#sk-container-id-1 div.sk-parallel {display: flex;align-items: stretch;justify-content: center;background-color: white;position: relative;}#sk-container-id-1 div.sk-item::before, #sk-container-id-1 div.sk-parallel-item::before {content: \"\";position: absolute;border-left: 1px solid gray;box-sizing: border-box;top: 0;bottom: 0;left: 50%;z-index: -1;}#sk-container-id-1 div.sk-parallel-item {display: flex;flex-direction: column;z-index: 1;position: relative;background-color: white;}#sk-container-id-1 div.sk-parallel-item:first-child::after {align-self: flex-end;width: 50%;}#sk-container-id-1 div.sk-parallel-item:last-child::after {align-self: flex-start;width: 50%;}#sk-container-id-1 div.sk-parallel-item:only-child::after {width: 0;}#sk-container-id-1 div.sk-dashed-wrapped {border: 1px dashed gray;margin: 0 0.4em 0.5em 0.4em;box-sizing: border-box;padding-bottom: 0.4em;background-color: white;}#sk-container-id-1 div.sk-label label {font-family: monospace;font-weight: bold;display: inline-block;line-height: 1.2em;}#sk-container-id-1 div.sk-label-container {text-align: center;}#sk-container-id-1 div.sk-container {/* jupyter's `normalize.less` sets `[hidden] { display: none; }` but bootstrap.min.css set `[hidden] { display: none !important; }` so we also need the `!important` here to be able to override the default hidden behavior on the sphinx rendered scikit-learn.org. See: https://github.com/scikit-learn/scikit-learn/issues/21755 */display: inline-block !important;position: relative;}#sk-container-id-1 div.sk-text-repr-fallback {display: none;}</style><div id=\"sk-container-id-1\" class=\"sk-top-container\"><div class=\"sk-text-repr-fallback\"><pre>LinearRegression()</pre><b>In a Jupyter environment, please rerun this cell to show the HTML representation or trust the notebook. <br />On GitHub, the HTML representation is unable to render, please try loading this page with nbviewer.org.</b></div><div class=\"sk-container\" hidden><div class=\"sk-item\"><div class=\"sk-estimator sk-toggleable\"><input class=\"sk-toggleable__control sk-hidden--visually\" id=\"sk-estimator-id-1\" type=\"checkbox\" checked><label for=\"sk-estimator-id-1\" class=\"sk-toggleable__label sk-toggleable__label-arrow\">LinearRegression</label><div class=\"sk-toggleable__content\"><pre>LinearRegression()</pre></div></div></div></div></div>",
                        "text/plain": "LinearRegression()"
                    },
                    "execution_count": 4,
                    "metadata": {},
                    "output_type": "execute_result"
                }
            ],
            "source": "modelo = LinearRegression()\nmodelo.fit(X = X_train, y = y_train)"
        },
        {
            "cell_type": "code",
            "execution_count": 5,
            "metadata": {
                "id": "1fc2f04d-e3a9-4f8b-af91-78c7311e8682"
            },
            "outputs": [
                {
                    "name": "stdout",
                    "output_type": "stream",
                    "text": "Intercept: [-2367.7028413]\n"
                }
            ],
            "source": "# Modelo\nprint(\"Intercept:\", modelo.intercept_)"
        },
        {
            "cell_type": "code",
            "execution_count": 6,
            "metadata": {
                "id": "3c85890c-74f7-4062-b86b-eca364530669"
            },
            "outputs": [
                {
                    "name": "stdout",
                    "output_type": "stream",
                    "text": "El MSE es 3520.8458755573306\n"
                }
            ],
            "source": "y_pred = modelo.predict(X =X_test)\nrmse = mean_squared_error(y_test, y_pred)\n#mse = mean_squared_error(y_test, y_pred, squared = False)\n#print(f\"El RMSE es {mse}\")\nprint(f\"El MSE es {rmse}\")"
        },
        {
            "cell_type": "code",
            "execution_count": 7,
            "metadata": {
                "id": "423487a9-dd92-4a07-a738-5536b2500ae1"
            },
            "outputs": [
                {
                    "name": "stdout",
                    "output_type": "stream",
                    "text": "                            OLS Regression Results                            \n==============================================================================\nDep. Variable:                      y   R-squared:                       0.271\nModel:                            OLS   Adj. R-squared:                  0.238\nMethod:                 Least Squares   F-statistic:                     8.191\nDate:                Wed, 02 Apr 2025   Prob (F-statistic):            0.00906\nTime:                        02:55:36   Log-Likelihood:                -134.71\nNo. Observations:                  24   AIC:                             273.4\nDf Residuals:                      22   BIC:                             275.8\nDf Model:                           1                                         \nCovariance Type:            nonrobust                                         \n==============================================================================\n                 coef    std err          t      P>|t|      [0.025      0.975]\n------------------------------------------------------------------------------\nconst      -2367.7028   1066.357     -2.220      0.037   -4579.192    -156.214\nx1             0.5529      0.193      2.862      0.009       0.152       0.953\n==============================================================================\nOmnibus:                        5.033   Durbin-Watson:                   1.902\nProb(Omnibus):                  0.081   Jarque-Bera (JB):                3.170\nSkew:                           0.829   Prob(JB):                        0.205\nKurtosis:                       3.650   Cond. No.                     4.17e+05\n==============================================================================\n\nNotes:\n[1] Standard Errors assume that the covariance matrix of the errors is correctly specified.\n[2] The condition number is large, 4.17e+05. This might indicate that there are\nstrong multicollinearity or other numerical problems.\n"
                }
            ],
            "source": "X_train2 = sm.add_constant(X_train, prepend = True)\nX_test2 = sm.add_constant(X_test, prepend = True)\nmodelo_sm = sm.OLS(endog=y_train, exog =X_train2)\nmodelo_sm = modelo_sm.fit()\nprint(modelo_sm.summary())"
        },
        {
            "cell_type": "code",
            "execution_count": null,
            "metadata": {
                "id": "ce463a7c-6326-4cec-9846-25249a8b8331"
            },
            "outputs": [],
            "source": ""
        }
    ],
    "metadata": {
        "kernelspec": {
            "display_name": "Python 3.11",
            "language": "python",
            "name": "python3"
        },
        "language_info": {
            "codemirror_mode": {
                "name": "ipython",
                "version": 3
            },
            "file_extension": ".py",
            "mimetype": "text/x-python",
            "name": "python",
            "nbconvert_exporter": "python",
            "pygments_lexer": "ipython3",
            "version": "3.11.9"
        }
    },
    "nbformat": 4,
    "nbformat_minor": 4
}